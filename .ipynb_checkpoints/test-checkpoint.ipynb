{
 "cells": [
  {
   "cell_type": "code",
   "execution_count": 1,
   "id": "fdcd092d-d1a8-4cd8-9c3e-f8a8934e8180",
   "metadata": {},
   "outputs": [],
   "source": [
    "from bqplot import pyplot as plt\n",
    "import ipywidgets as widgets\n",
    "import numpy as np"
   ]
  },
  {
   "cell_type": "code",
   "execution_count": 2,
   "id": "a7815686-ed46-492d-a42d-fa09171efae0",
   "metadata": {},
   "outputs": [],
   "source": [
    "# generate some fake\n",
    "n = 2000\n",
    "x = np.linspace(0.0, 10.0, n)\n",
    "np.random.seed(0)\n",
    "y = np.cumsum(np.random.randn(n)*10).astype(int)"
   ]
  },
  {
   "cell_type": "code",
   "execution_count": 3,
   "id": "29415cd9-e4ff-4d04-8628-67331cb87fbf",
   "metadata": {},
   "outputs": [
    {
     "data": {
      "application/vnd.jupyter.widget-view+json": {
       "model_id": "b49914714aba4e49b308f6ccbe6cb00e",
       "version_major": 2,
       "version_minor": 0
      },
      "text/plain": [
       "Figure(axes=[Axis(orientation='vertical', scale=LinearScale()), Axis(scale=LinearScale())], fig_margin={'top':…"
      ]
     },
     "metadata": {},
     "output_type": "display_data"
    }
   ],
   "source": [
    "# \n",
    "fig_hist = plt.figure(title='Histogram from Scipy2019')\n",
    "hist = plt.hist(y, bins=25)\n",
    "fig_hist"
   ]
  },
  {
   "cell_type": "code",
   "execution_count": 4,
   "id": "186a83ee-f4ac-492f-8139-a0cd9508c645",
   "metadata": {},
   "outputs": [],
   "source": [
    "hist.bins = 10"
   ]
  },
  {
   "cell_type": "code",
   "execution_count": 5,
   "id": "d665fb94-337e-48ad-beda-bb2848e146f2",
   "metadata": {},
   "outputs": [
    {
     "data": {
      "application/vnd.jupyter.widget-view+json": {
       "model_id": "05c50e859611431e9852d23dac3dce8f",
       "version_major": 2,
       "version_minor": 0
      },
      "text/plain": [
       "IntSlider(value=1, min=1)"
      ]
     },
     "metadata": {},
     "output_type": "display_data"
    }
   ],
   "source": [
    "slider = widgets.IntSlider(min=1, max=100, v_model=30)\n",
    "slider"
   ]
  },
  {
   "cell_type": "code",
   "execution_count": 6,
   "id": "fde6d8d0-d6a0-4b58-a08d-5eb4f40317a7",
   "metadata": {},
   "outputs": [],
   "source": [
    "slider.value = 40"
   ]
  },
  {
   "cell_type": "code",
   "execution_count": 7,
   "id": "da494f28-23a7-4088-9f7d-5ee9a3acecdd",
   "metadata": {},
   "outputs": [
    {
     "data": {
      "text/plain": [
       "<traitlets.traitlets.link at 0x2bb2a514d90>"
      ]
     },
     "execution_count": 7,
     "metadata": {},
     "output_type": "execute_result"
    }
   ],
   "source": [
    "widgets.link((hist, 'bins'), (slider, 'value'))"
   ]
  },
  {
   "cell_type": "code",
   "execution_count": 8,
   "id": "ed478387-9d6e-4b91-8054-a445c2cc5598",
   "metadata": {},
   "outputs": [
    {
     "data": {
      "application/vnd.jupyter.widget-view+json": {
       "model_id": "d345bd53c10644499a41bb4877fc851e",
       "version_major": 2,
       "version_minor": 0
      },
      "text/plain": [
       "Figure(axes=[Axis(scale=LinearScale()), Axis(orientation='vertical', scale=LinearScale())], fig_margin={'top':…"
      ]
     },
     "metadata": {},
     "output_type": "display_data"
    }
   ],
   "source": [
    "fig_lines = plt.figure(title='Line Chart')\n",
    "lines = plt.plot(x,y)\n",
    "fig_lines"
   ]
  },
  {
   "cell_type": "code",
   "execution_count": 9,
   "id": "2d110f9d-c546-416b-ac8d-42b95dbd767a",
   "metadata": {},
   "outputs": [],
   "source": [
    "selector = plt.brush_int_selector()\n",
    "def update_range(*ignore):\n",
    "    if selector.selected is not None and len(selector.selected) ==2 :\n",
    "        xmin, xmax = selector.selected\n",
    "        mask = (x>xmin) & (x<xmax)\n",
    "        hist.sample =y[mask]\n",
    "selector.observe(update_range, 'selected')"
   ]
  },
  {
   "cell_type": "code",
   "execution_count": null,
   "id": "d560de2a-04b8-49a4-90c6-52f8e95c8667",
   "metadata": {},
   "outputs": [],
   "source": []
  }
 ],
 "metadata": {
  "kernelspec": {
   "display_name": "Python 3",
   "language": "python",
   "name": "python3"
  },
  "language_info": {
   "codemirror_mode": {
    "name": "ipython",
    "version": 3
   },
   "file_extension": ".py",
   "mimetype": "text/x-python",
   "name": "python",
   "nbconvert_exporter": "python",
   "pygments_lexer": "ipython3",
   "version": "3.8.8"
  }
 },
 "nbformat": 4,
 "nbformat_minor": 5
}
